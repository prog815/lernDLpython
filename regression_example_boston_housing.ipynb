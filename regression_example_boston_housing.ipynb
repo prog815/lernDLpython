{
  "nbformat": 4,
  "nbformat_minor": 0,
  "metadata": {
    "colab": {
      "name": "regression_example_boston_housing.ipynb",
      "version": "0.3.2",
      "provenance": [],
      "include_colab_link": true
    },
    "kernelspec": {
      "name": "python3",
      "display_name": "Python 3"
    },
    "accelerator": "GPU"
  },
  "cells": [
    {
      "cell_type": "markdown",
      "metadata": {
        "id": "view-in-github",
        "colab_type": "text"
      },
      "source": [
        "<a href=\"https://colab.research.google.com/github/prog815/lernDLpython/blob/master/regression_example_boston_housing.ipynb\" target=\"_parent\"><img src=\"https://colab.research.google.com/assets/colab-badge.svg\" alt=\"Open In Colab\"/></a>"
      ]
    },
    {
      "cell_type": "markdown",
      "metadata": {
        "id": "HGPEVSva6n7s",
        "colab_type": "text"
      },
      "source": [
        "# Предсказание стоимости недвижимости. (регрессия)\n",
        "\n",
        "Енин А.В.\n",
        "\n",
        "Оренбург\n",
        "\n",
        "23.08.2019\n",
        "\n",
        "[VK](https://vk.com/alekseyenin)\n",
        "[OK](http://ok.ru/profile/404477133)\n",
        "[Twitter](https://twitter.com/EninAleksey)\n",
        "[FB](https://www.facebook.com/alex.prog.1)\n",
        "[Telegramm](https://t.me/AleseyEnin)\n",
        "[Habr](https://habr.com/ru/users/eavprog/posts/)\n",
        "[VC](https://vc.ru/u/262921-aleksey-enin)\n",
        "[GitHub](https://github.com/prog815/lernDLpython)"
      ]
    },
    {
      "cell_type": "markdown",
      "metadata": {
        "id": "EtzqjoobFr5q",
        "colab_type": "text"
      },
      "source": [
        "образец:\n",
        "\n",
        "https://github.com/sozykin/dlpython_course/blob/master/regression/regression_example.ipynb\n"
      ]
    },
    {
      "cell_type": "markdown",
      "metadata": {
        "id": "bEe9v8W-tplt",
        "colab_type": "text"
      },
      "source": [
        "![alt text](https://github.com/prog815/lernDLpython/raw/master/bost_hous_regr.jpg)"
      ]
    },
    {
      "cell_type": "markdown",
      "metadata": {
        "id": "3szQNo-gGZlu",
        "colab_type": "text"
      },
      "source": [
        "# Подключаем библиотеки"
      ]
    },
    {
      "cell_type": "code",
      "metadata": {
        "id": "XhovjASnN-U7",
        "colab_type": "code",
        "colab": {
          "base_uri": "https://localhost:8080/",
          "height": 34
        },
        "outputId": "62786c69-ee02-43e1-bffe-76b7c2bdb4f5"
      },
      "source": [
        "from keras.datasets import boston_housing\n",
        "from keras import layers\n",
        "from keras.models import Sequential\n",
        "import numpy as np\n",
        "import matplotlib.pyplot as plt"
      ],
      "execution_count": 1,
      "outputs": [
        {
          "output_type": "stream",
          "text": [
            "Using TensorFlow backend.\n"
          ],
          "name": "stderr"
        }
      ]
    },
    {
      "cell_type": "markdown",
      "metadata": {
        "id": "weimXiNeGf3e",
        "colab_type": "text"
      },
      "source": [
        "# Загружаем данные"
      ]
    },
    {
      "cell_type": "code",
      "metadata": {
        "id": "p5ZA3a78OzzW",
        "colab_type": "code",
        "colab": {}
      },
      "source": [
        "(x_train, y_train), (x_test, y_test) = boston_housing.load_data()"
      ],
      "execution_count": 0,
      "outputs": []
    },
    {
      "cell_type": "code",
      "metadata": {
        "id": "GYSlyQClPAdC",
        "colab_type": "code",
        "outputId": "e013c44e-724a-406b-f7c2-2c9a928ea85a",
        "colab": {
          "base_uri": "https://localhost:8080/",
          "height": 34
        }
      },
      "source": [
        "x_train.shape"
      ],
      "execution_count": 3,
      "outputs": [
        {
          "output_type": "execute_result",
          "data": {
            "text/plain": [
              "(404, 13)"
            ]
          },
          "metadata": {
            "tags": []
          },
          "execution_count": 3
        }
      ]
    },
    {
      "cell_type": "code",
      "metadata": {
        "id": "TYEZEGDBPIZu",
        "colab_type": "code",
        "outputId": "5cd549ba-703c-460d-da8d-f28bfdfaf98f",
        "colab": {
          "base_uri": "https://localhost:8080/",
          "height": 272
        }
      },
      "source": [
        "x_train[-5:,:]"
      ],
      "execution_count": 4,
      "outputs": [
        {
          "output_type": "execute_result",
          "data": {
            "text/plain": [
              "array([[2.19770e-01, 0.00000e+00, 6.91000e+00, 0.00000e+00, 4.48000e-01,\n",
              "        5.60200e+00, 6.20000e+01, 6.08770e+00, 3.00000e+00, 2.33000e+02,\n",
              "        1.79000e+01, 3.96900e+02, 1.62000e+01],\n",
              "       [1.62110e-01, 2.00000e+01, 6.96000e+00, 0.00000e+00, 4.64000e-01,\n",
              "        6.24000e+00, 1.63000e+01, 4.42900e+00, 3.00000e+00, 2.23000e+02,\n",
              "        1.86000e+01, 3.96900e+02, 6.59000e+00],\n",
              "       [3.46600e-02, 3.50000e+01, 6.06000e+00, 0.00000e+00, 4.37900e-01,\n",
              "        6.03100e+00, 2.33000e+01, 6.64070e+00, 1.00000e+00, 3.04000e+02,\n",
              "        1.69000e+01, 3.62250e+02, 7.83000e+00],\n",
              "       [2.14918e+00, 0.00000e+00, 1.95800e+01, 0.00000e+00, 8.71000e-01,\n",
              "        5.70900e+00, 9.85000e+01, 1.62320e+00, 5.00000e+00, 4.03000e+02,\n",
              "        1.47000e+01, 2.61950e+02, 1.57900e+01],\n",
              "       [1.43900e-02, 6.00000e+01, 2.93000e+00, 0.00000e+00, 4.01000e-01,\n",
              "        6.60400e+00, 1.88000e+01, 6.21960e+00, 1.00000e+00, 2.65000e+02,\n",
              "        1.56000e+01, 3.76700e+02, 4.38000e+00]])"
            ]
          },
          "metadata": {
            "tags": []
          },
          "execution_count": 4
        }
      ]
    },
    {
      "cell_type": "markdown",
      "metadata": {
        "id": "dc5_3iHzGjeP",
        "colab_type": "text"
      },
      "source": [
        "# Нормализуем данные"
      ]
    },
    {
      "cell_type": "code",
      "metadata": {
        "id": "-YtA0Rx5PW_m",
        "colab_type": "code",
        "outputId": "3f7e1ece-baaf-45a1-83b9-cf99592c7020",
        "colab": {
          "base_uri": "https://localhost:8080/",
          "height": 85
        }
      },
      "source": [
        "train_mean = x_train.mean(axis=0)\n",
        "train_mean"
      ],
      "execution_count": 5,
      "outputs": [
        {
          "output_type": "execute_result",
          "data": {
            "text/plain": [
              "array([3.74511057e+00, 1.14801980e+01, 1.11044307e+01, 6.18811881e-02,\n",
              "       5.57355941e-01, 6.26708168e+00, 6.90106436e+01, 3.74027079e+00,\n",
              "       9.44059406e+00, 4.05898515e+02, 1.84759901e+01, 3.54783168e+02,\n",
              "       1.27408168e+01])"
            ]
          },
          "metadata": {
            "tags": []
          },
          "execution_count": 5
        }
      ]
    },
    {
      "cell_type": "code",
      "metadata": {
        "id": "hAqJTwpRPwyB",
        "colab_type": "code",
        "outputId": "a6b4d888-766f-4d39-c9ed-55d498617270",
        "colab": {
          "base_uri": "https://localhost:8080/",
          "height": 85
        }
      },
      "source": [
        "train_std = x_train.std(axis=0)\n",
        "train_std"
      ],
      "execution_count": 6,
      "outputs": [
        {
          "output_type": "execute_result",
          "data": {
            "text/plain": [
              "array([9.22929073e+00, 2.37382770e+01, 6.80287253e+00, 2.40939633e-01,\n",
              "       1.17147847e-01, 7.08908627e-01, 2.79060634e+01, 2.02770050e+00,\n",
              "       8.68758849e+00, 1.66168506e+02, 2.19765689e+00, 9.39946015e+01,\n",
              "       7.24556085e+00])"
            ]
          },
          "metadata": {
            "tags": []
          },
          "execution_count": 6
        }
      ]
    },
    {
      "cell_type": "code",
      "metadata": {
        "id": "4gDTu_V3P9xb",
        "colab_type": "code",
        "colab": {}
      },
      "source": [
        "norm_x_train = (x_train - train_mean)/train_std\n",
        "norm_x_test = (x_test - train_mean)/train_std"
      ],
      "execution_count": 0,
      "outputs": []
    },
    {
      "cell_type": "markdown",
      "metadata": {
        "id": "3M5Ay3lpGna2",
        "colab_type": "text"
      },
      "source": [
        "# Создаем сеть"
      ]
    },
    {
      "cell_type": "code",
      "metadata": {
        "id": "FWErMa3ORSNt",
        "colab_type": "code",
        "colab": {
          "base_uri": "https://localhost:8080/",
          "height": 156
        },
        "outputId": "3b328a5d-748a-4c86-8ac6-df02f41647c5"
      },
      "source": [
        "model = Sequential([\n",
        "                    layers.Dense(128,activation='relu',input_shape=(norm_x_train.shape[1],)),\n",
        "                    layers.Dense(1)])"
      ],
      "execution_count": 8,
      "outputs": [
        {
          "output_type": "stream",
          "text": [
            "WARNING: Logging before flag parsing goes to stderr.\n",
            "W0823 08:55:26.271550 140423802132352 deprecation_wrapper.py:119] From /usr/local/lib/python3.6/dist-packages/keras/backend/tensorflow_backend.py:74: The name tf.get_default_graph is deprecated. Please use tf.compat.v1.get_default_graph instead.\n",
            "\n",
            "W0823 08:55:26.290267 140423802132352 deprecation_wrapper.py:119] From /usr/local/lib/python3.6/dist-packages/keras/backend/tensorflow_backend.py:517: The name tf.placeholder is deprecated. Please use tf.compat.v1.placeholder instead.\n",
            "\n",
            "W0823 08:55:26.293079 140423802132352 deprecation_wrapper.py:119] From /usr/local/lib/python3.6/dist-packages/keras/backend/tensorflow_backend.py:4138: The name tf.random_uniform is deprecated. Please use tf.random.uniform instead.\n",
            "\n"
          ],
          "name": "stderr"
        }
      ]
    },
    {
      "cell_type": "code",
      "metadata": {
        "id": "UOJmVthdjbLc",
        "colab_type": "code",
        "colab": {
          "base_uri": "https://localhost:8080/",
          "height": 51
        },
        "outputId": "3feaf552-f98e-48e0-b443-b638329d6931"
      },
      "source": [
        "model.compile(optimizer='adam',loss='mse',metrics=['mae'])"
      ],
      "execution_count": 9,
      "outputs": [
        {
          "output_type": "stream",
          "text": [
            "W0823 08:55:26.321891 140423802132352 deprecation_wrapper.py:119] From /usr/local/lib/python3.6/dist-packages/keras/optimizers.py:790: The name tf.train.Optimizer is deprecated. Please use tf.compat.v1.train.Optimizer instead.\n",
            "\n"
          ],
          "name": "stderr"
        }
      ]
    },
    {
      "cell_type": "code",
      "metadata": {
        "id": "g4_X019dj0tY",
        "colab_type": "code",
        "colab": {
          "base_uri": "https://localhost:8080/",
          "height": 204
        },
        "outputId": "18bad328-8a3c-4751-c9a6-7029ef2c354d"
      },
      "source": [
        "model.summary()"
      ],
      "execution_count": 10,
      "outputs": [
        {
          "output_type": "stream",
          "text": [
            "_________________________________________________________________\n",
            "Layer (type)                 Output Shape              Param #   \n",
            "=================================================================\n",
            "dense_1 (Dense)              (None, 128)               1792      \n",
            "_________________________________________________________________\n",
            "dense_2 (Dense)              (None, 1)                 129       \n",
            "=================================================================\n",
            "Total params: 1,921\n",
            "Trainable params: 1,921\n",
            "Non-trainable params: 0\n",
            "_________________________________________________________________\n"
          ],
          "name": "stdout"
        }
      ]
    },
    {
      "cell_type": "markdown",
      "metadata": {
        "id": "0n89wIIFGqHm",
        "colab_type": "text"
      },
      "source": [
        "# Обучаем сеть"
      ]
    },
    {
      "cell_type": "code",
      "metadata": {
        "id": "G9EVG3BLkXDp",
        "colab_type": "code",
        "colab": {
          "base_uri": "https://localhost:8080/",
          "height": 1000
        },
        "outputId": "a66c86e9-f357-43b6-ca76-00a137aca839"
      },
      "source": [
        "model.fit(norm_x_train,y_train,epochs=100,batch_size=1,verbose=2)"
      ],
      "execution_count": 11,
      "outputs": [
        {
          "output_type": "stream",
          "text": [
            "W0823 08:55:26.453355 140423802132352 deprecation_wrapper.py:119] From /usr/local/lib/python3.6/dist-packages/keras/backend/tensorflow_backend.py:986: The name tf.assign_add is deprecated. Please use tf.compat.v1.assign_add instead.\n",
            "\n",
            "W0823 08:55:26.515007 140423802132352 deprecation_wrapper.py:119] From /usr/local/lib/python3.6/dist-packages/keras/backend/tensorflow_backend.py:973: The name tf.assign is deprecated. Please use tf.compat.v1.assign instead.\n",
            "\n"
          ],
          "name": "stderr"
        },
        {
          "output_type": "stream",
          "text": [
            "Epoch 1/100\n",
            " - 2s - loss: 328.9433 - mean_absolute_error: 15.3683\n",
            "Epoch 2/100\n",
            " - 1s - loss: 42.4161 - mean_absolute_error: 4.3148\n",
            "Epoch 3/100\n",
            " - 1s - loss: 27.0122 - mean_absolute_error: 3.5320\n",
            "Epoch 4/100\n",
            " - 1s - loss: 22.3567 - mean_absolute_error: 3.2835\n",
            "Epoch 5/100\n",
            " - 1s - loss: 19.4005 - mean_absolute_error: 3.1136\n",
            "Epoch 6/100\n",
            " - 1s - loss: 16.8510 - mean_absolute_error: 2.9235\n",
            "Epoch 7/100\n",
            " - 1s - loss: 15.1865 - mean_absolute_error: 2.7453\n",
            "Epoch 8/100\n",
            " - 1s - loss: 13.4241 - mean_absolute_error: 2.5637\n",
            "Epoch 9/100\n",
            " - 1s - loss: 11.7527 - mean_absolute_error: 2.4102\n",
            "Epoch 10/100\n",
            " - 1s - loss: 11.3577 - mean_absolute_error: 2.3867\n",
            "Epoch 11/100\n",
            " - 1s - loss: 10.8108 - mean_absolute_error: 2.2901\n",
            "Epoch 12/100\n",
            " - 1s - loss: 10.1562 - mean_absolute_error: 2.2137\n",
            "Epoch 13/100\n",
            " - 1s - loss: 9.6677 - mean_absolute_error: 2.1959\n",
            "Epoch 14/100\n",
            " - 1s - loss: 9.6243 - mean_absolute_error: 2.1641\n",
            "Epoch 15/100\n",
            " - 1s - loss: 9.3144 - mean_absolute_error: 2.1356\n",
            "Epoch 16/100\n",
            " - 1s - loss: 9.3623 - mean_absolute_error: 2.1449\n",
            "Epoch 17/100\n",
            " - 1s - loss: 8.9218 - mean_absolute_error: 2.1599\n",
            "Epoch 18/100\n",
            " - 1s - loss: 8.5919 - mean_absolute_error: 2.0244\n",
            "Epoch 19/100\n",
            " - 1s - loss: 8.5249 - mean_absolute_error: 2.0507\n",
            "Epoch 20/100\n",
            " - 1s - loss: 8.1795 - mean_absolute_error: 2.0209\n",
            "Epoch 21/100\n",
            " - 1s - loss: 8.1167 - mean_absolute_error: 2.0041\n",
            "Epoch 22/100\n",
            " - 1s - loss: 8.1649 - mean_absolute_error: 1.9920\n",
            "Epoch 23/100\n",
            " - 1s - loss: 7.9910 - mean_absolute_error: 2.0048\n",
            "Epoch 24/100\n",
            " - 1s - loss: 7.7731 - mean_absolute_error: 1.9469\n",
            "Epoch 25/100\n",
            " - 1s - loss: 7.7714 - mean_absolute_error: 1.9607\n",
            "Epoch 26/100\n",
            " - 1s - loss: 7.4165 - mean_absolute_error: 1.9085\n",
            "Epoch 27/100\n",
            " - 1s - loss: 7.4437 - mean_absolute_error: 1.9379\n",
            "Epoch 28/100\n",
            " - 1s - loss: 7.6179 - mean_absolute_error: 1.9348\n",
            "Epoch 29/100\n",
            " - 1s - loss: 7.2999 - mean_absolute_error: 1.9096\n",
            "Epoch 30/100\n",
            " - 1s - loss: 7.1109 - mean_absolute_error: 1.8719\n",
            "Epoch 31/100\n",
            " - 1s - loss: 7.3939 - mean_absolute_error: 1.9119\n",
            "Epoch 32/100\n",
            " - 1s - loss: 7.0673 - mean_absolute_error: 1.8749\n",
            "Epoch 33/100\n",
            " - 1s - loss: 6.8334 - mean_absolute_error: 1.8675\n",
            "Epoch 34/100\n",
            " - 1s - loss: 6.8978 - mean_absolute_error: 1.8469\n",
            "Epoch 35/100\n",
            " - 1s - loss: 6.8281 - mean_absolute_error: 1.8679\n",
            "Epoch 36/100\n",
            " - 1s - loss: 6.7953 - mean_absolute_error: 1.8552\n",
            "Epoch 37/100\n",
            " - 1s - loss: 6.7650 - mean_absolute_error: 1.8402\n",
            "Epoch 38/100\n",
            " - 1s - loss: 6.5873 - mean_absolute_error: 1.8237\n",
            "Epoch 39/100\n",
            " - 1s - loss: 6.5561 - mean_absolute_error: 1.8134\n",
            "Epoch 40/100\n",
            " - 1s - loss: 6.3781 - mean_absolute_error: 1.7894\n",
            "Epoch 41/100\n",
            " - 1s - loss: 6.4277 - mean_absolute_error: 1.7863\n",
            "Epoch 42/100\n",
            " - 1s - loss: 6.3036 - mean_absolute_error: 1.7847\n",
            "Epoch 43/100\n",
            " - 1s - loss: 6.5374 - mean_absolute_error: 1.8252\n",
            "Epoch 44/100\n",
            " - 1s - loss: 6.2689 - mean_absolute_error: 1.7417\n",
            "Epoch 45/100\n",
            " - 1s - loss: 6.0907 - mean_absolute_error: 1.7531\n",
            "Epoch 46/100\n",
            " - 1s - loss: 6.1667 - mean_absolute_error: 1.7638\n",
            "Epoch 47/100\n",
            " - 1s - loss: 6.2300 - mean_absolute_error: 1.7708\n",
            "Epoch 48/100\n",
            " - 1s - loss: 6.1202 - mean_absolute_error: 1.7528\n",
            "Epoch 49/100\n",
            " - 1s - loss: 6.0741 - mean_absolute_error: 1.7335\n",
            "Epoch 50/100\n",
            " - 1s - loss: 6.0589 - mean_absolute_error: 1.7497\n",
            "Epoch 51/100\n",
            " - 1s - loss: 5.8319 - mean_absolute_error: 1.7037\n",
            "Epoch 52/100\n",
            " - 1s - loss: 5.8441 - mean_absolute_error: 1.7068\n",
            "Epoch 53/100\n",
            " - 1s - loss: 5.7275 - mean_absolute_error: 1.6802\n",
            "Epoch 54/100\n",
            " - 1s - loss: 5.6015 - mean_absolute_error: 1.6958\n",
            "Epoch 55/100\n",
            " - 1s - loss: 5.7839 - mean_absolute_error: 1.7075\n",
            "Epoch 56/100\n",
            " - 1s - loss: 5.6146 - mean_absolute_error: 1.6768\n",
            "Epoch 57/100\n",
            " - 1s - loss: 5.7228 - mean_absolute_error: 1.6638\n",
            "Epoch 58/100\n",
            " - 1s - loss: 5.5263 - mean_absolute_error: 1.6602\n",
            "Epoch 59/100\n",
            " - 1s - loss: 5.5576 - mean_absolute_error: 1.6577\n",
            "Epoch 60/100\n",
            " - 1s - loss: 5.6302 - mean_absolute_error: 1.6477\n",
            "Epoch 61/100\n",
            " - 1s - loss: 5.5529 - mean_absolute_error: 1.6707\n",
            "Epoch 62/100\n",
            " - 1s - loss: 5.4505 - mean_absolute_error: 1.6471\n",
            "Epoch 63/100\n",
            " - 1s - loss: 5.3597 - mean_absolute_error: 1.6543\n",
            "Epoch 64/100\n",
            " - 1s - loss: 5.3210 - mean_absolute_error: 1.6548\n",
            "Epoch 65/100\n",
            " - 1s - loss: 5.2625 - mean_absolute_error: 1.6106\n",
            "Epoch 66/100\n",
            " - 1s - loss: 5.4318 - mean_absolute_error: 1.6528\n",
            "Epoch 67/100\n",
            " - 1s - loss: 5.3513 - mean_absolute_error: 1.6625\n",
            "Epoch 68/100\n",
            " - 1s - loss: 5.2573 - mean_absolute_error: 1.6036\n",
            "Epoch 69/100\n",
            " - 1s - loss: 5.1627 - mean_absolute_error: 1.6317\n",
            "Epoch 70/100\n",
            " - 1s - loss: 4.9640 - mean_absolute_error: 1.5746\n",
            "Epoch 71/100\n",
            " - 1s - loss: 4.9740 - mean_absolute_error: 1.5491\n",
            "Epoch 72/100\n",
            " - 1s - loss: 4.9089 - mean_absolute_error: 1.5733\n",
            "Epoch 73/100\n",
            " - 1s - loss: 4.9373 - mean_absolute_error: 1.6166\n",
            "Epoch 74/100\n",
            " - 1s - loss: 4.7689 - mean_absolute_error: 1.5576\n",
            "Epoch 75/100\n",
            " - 1s - loss: 4.9303 - mean_absolute_error: 1.5731\n",
            "Epoch 76/100\n",
            " - 1s - loss: 4.9846 - mean_absolute_error: 1.6259\n",
            "Epoch 77/100\n",
            " - 1s - loss: 4.7556 - mean_absolute_error: 1.5093\n",
            "Epoch 78/100\n",
            " - 1s - loss: 4.7184 - mean_absolute_error: 1.5683\n",
            "Epoch 79/100\n",
            " - 1s - loss: 4.8433 - mean_absolute_error: 1.5997\n",
            "Epoch 80/100\n",
            " - 1s - loss: 4.6073 - mean_absolute_error: 1.4970\n",
            "Epoch 81/100\n",
            " - 1s - loss: 4.8138 - mean_absolute_error: 1.5578\n",
            "Epoch 82/100\n",
            " - 1s - loss: 4.6629 - mean_absolute_error: 1.5437\n",
            "Epoch 83/100\n",
            " - 1s - loss: 4.6758 - mean_absolute_error: 1.5296\n",
            "Epoch 84/100\n",
            " - 1s - loss: 4.6973 - mean_absolute_error: 1.5340\n",
            "Epoch 85/100\n",
            " - 1s - loss: 4.4052 - mean_absolute_error: 1.4786\n",
            "Epoch 86/100\n",
            " - 1s - loss: 4.6534 - mean_absolute_error: 1.5370\n",
            "Epoch 87/100\n",
            " - 1s - loss: 4.6916 - mean_absolute_error: 1.5388\n",
            "Epoch 88/100\n",
            " - 1s - loss: 4.5896 - mean_absolute_error: 1.4906\n",
            "Epoch 89/100\n",
            " - 1s - loss: 4.2979 - mean_absolute_error: 1.4633\n",
            "Epoch 90/100\n",
            " - 1s - loss: 4.5077 - mean_absolute_error: 1.4948\n",
            "Epoch 91/100\n",
            " - 1s - loss: 4.4149 - mean_absolute_error: 1.4900\n",
            "Epoch 92/100\n",
            " - 1s - loss: 4.4389 - mean_absolute_error: 1.4931\n",
            "Epoch 93/100\n",
            " - 1s - loss: 4.3284 - mean_absolute_error: 1.4675\n",
            "Epoch 94/100\n",
            " - 1s - loss: 4.2714 - mean_absolute_error: 1.5120\n",
            "Epoch 95/100\n",
            " - 1s - loss: 4.4299 - mean_absolute_error: 1.4892\n",
            "Epoch 96/100\n",
            " - 1s - loss: 4.2370 - mean_absolute_error: 1.4890\n",
            "Epoch 97/100\n",
            " - 1s - loss: 4.3481 - mean_absolute_error: 1.5141\n",
            "Epoch 98/100\n",
            " - 1s - loss: 4.2258 - mean_absolute_error: 1.4972\n",
            "Epoch 99/100\n",
            " - 1s - loss: 4.1056 - mean_absolute_error: 1.4361\n",
            "Epoch 100/100\n",
            " - 1s - loss: 4.0865 - mean_absolute_error: 1.4096\n"
          ],
          "name": "stdout"
        },
        {
          "output_type": "execute_result",
          "data": {
            "text/plain": [
              "<keras.callbacks.History at 0x7fb6d33b5860>"
            ]
          },
          "metadata": {
            "tags": []
          },
          "execution_count": 11
        }
      ]
    },
    {
      "cell_type": "markdown",
      "metadata": {
        "id": "B0My-XIPqrpz",
        "colab_type": "text"
      },
      "source": [
        "# оценка точности на обучении"
      ]
    },
    {
      "cell_type": "code",
      "metadata": {
        "id": "mUh3Tb2Rqwd6",
        "colab_type": "code",
        "colab": {
          "base_uri": "https://localhost:8080/",
          "height": 295
        },
        "outputId": "2c17b963-9ada-43e0-9874-2a30663e3c19"
      },
      "source": [
        "pred_y_train = model.predict(norm_x_train)\n",
        "plt.scatter(y_train,pred_y_train)\n",
        "plt.plot([0,50],[0,50],'g--')\n",
        "plt.xlabel('действительне значения')\n",
        "plt.ylabel('предсказанные значения')\n",
        "plt.title('Предсказание на обучающей выборке')\n",
        "plt.grid()\n",
        "plt.show()"
      ],
      "execution_count": 12,
      "outputs": [
        {
          "output_type": "display_data",
          "data": {
            "image/png": "[encoded data removed]",
            "text/plain": [
              "<Figure size 432x288 with 1 Axes>"
            ]
          },
          "metadata": {
            "tags": []
          }
        }
      ]
    },
    {
      "cell_type": "markdown",
      "metadata": {
        "id": "JJnhDKBQGuyh",
        "colab_type": "text"
      },
      "source": [
        "# Оценка точности сети в тесте"
      ]
    },
    {
      "cell_type": "code",
      "metadata": {
        "id": "vHBZNQmMm0of",
        "colab_type": "code",
        "colab": {
          "base_uri": "https://localhost:8080/",
          "height": 34
        },
        "outputId": "3eceb390-0205-4601-9504-ac5058cebdec"
      },
      "source": [
        "x_test.shape"
      ],
      "execution_count": 13,
      "outputs": [
        {
          "output_type": "execute_result",
          "data": {
            "text/plain": [
              "(102, 13)"
            ]
          },
          "metadata": {
            "tags": []
          },
          "execution_count": 13
        }
      ]
    },
    {
      "cell_type": "code",
      "metadata": {
        "id": "Z1Z3Gj8Dl6iH",
        "colab_type": "code",
        "colab": {
          "base_uri": "https://localhost:8080/",
          "height": 51
        },
        "outputId": "120366fa-ab19-4343-fc9d-9eb10a94deec"
      },
      "source": [
        "model.evaluate(norm_x_test,y_test)"
      ],
      "execution_count": 14,
      "outputs": [
        {
          "output_type": "stream",
          "text": [
            "102/102 [==============================] - 0s 487us/step\n"
          ],
          "name": "stdout"
        },
        {
          "output_type": "execute_result",
          "data": {
            "text/plain": [
              "[11.48951504277248, 2.254059819614186]"
            ]
          },
          "metadata": {
            "tags": []
          },
          "execution_count": 14
        }
      ]
    },
    {
      "cell_type": "markdown",
      "metadata": {
        "id": "jFUxskXBmcMv",
        "colab_type": "text"
      },
      "source": [
        "средняя абсолютная ошибка в тесте 2,5 тыс$"
      ]
    },
    {
      "cell_type": "code",
      "metadata": {
        "id": "wSJ-3pv3pKaN",
        "colab_type": "code",
        "colab": {
          "base_uri": "https://localhost:8080/",
          "height": 34
        },
        "outputId": "0439e437-e036-41f4-d9a9-bb1373c48a81"
      },
      "source": [
        "pred_y_test = model.predict(norm_x_test)\n",
        "pred_y_test.shape"
      ],
      "execution_count": 15,
      "outputs": [
        {
          "output_type": "execute_result",
          "data": {
            "text/plain": [
              "(102, 1)"
            ]
          },
          "metadata": {
            "tags": []
          },
          "execution_count": 15
        }
      ]
    },
    {
      "cell_type": "code",
      "metadata": {
        "id": "N8HcU9QjpE8c",
        "colab_type": "code",
        "colab": {
          "base_uri": "https://localhost:8080/",
          "height": 295
        },
        "outputId": "65ac6e20-279c-4046-b7de-5d390b5f5d41"
      },
      "source": [
        "plt.scatter(y_test,pred_y_test)\n",
        "plt.plot([0,50],[0,50],'g--')\n",
        "plt.xlabel('действительне значения')\n",
        "plt.ylabel('предсказанные значения')\n",
        "plt.title('Предсказание на тесте')\n",
        "plt.grid()\n",
        "plt.show()"
      ],
      "execution_count": 16,
      "outputs": [
        {
          "output_type": "display_data",
          "data": {
            "image/png": "[encoded data removed]",
            "text/plain": [
              "<Figure size 432x288 with 1 Axes>"
            ]
          },
          "metadata": {
            "tags": []
          }
        }
      ]
    },
    {
      "cell_type": "markdown",
      "metadata": {
        "id": "FX-YMw1LGy2a",
        "colab_type": "text"
      },
      "source": [
        "# Предсказываем в тесте"
      ]
    },
    {
      "cell_type": "code",
      "metadata": {
        "id": "1VRb80kuFY_2",
        "colab_type": "code",
        "colab": {
          "base_uri": "https://localhost:8080/",
          "height": 34
        },
        "outputId": "ad35e2de-e136-428d-c73b-f9f1b2355441"
      },
      "source": [
        "index = np.random.randint(len(y_test))\n",
        "index"
      ],
      "execution_count": 17,
      "outputs": [
        {
          "output_type": "execute_result",
          "data": {
            "text/plain": [
              "50"
            ]
          },
          "metadata": {
            "tags": []
          },
          "execution_count": 17
        }
      ]
    },
    {
      "cell_type": "code",
      "metadata": {
        "id": "pk01WoIsn7-b",
        "colab_type": "code",
        "colab": {
          "base_uri": "https://localhost:8080/",
          "height": 34
        },
        "outputId": "6be938c8-7a26-41f3-f201-9cb35d068aba"
      },
      "source": [
        "model.predict(norm_x_test[index:index+1,:])[0,0],y_test[index] # прогноз и действиетльное значение"
      ],
      "execution_count": 18,
      "outputs": [
        {
          "output_type": "execute_result",
          "data": {
            "text/plain": [
              "(36.25227, 35.4)"
            ]
          },
          "metadata": {
            "tags": []
          },
          "execution_count": 18
        }
      ]
    }
  ]
}
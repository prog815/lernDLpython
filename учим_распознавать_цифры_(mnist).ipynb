{
  "nbformat": 4,
  "nbformat_minor": 0,
  "metadata": {
    "colab": {
      "name": "учим распознавать цифры (mnist).ipynb",
      "version": "0.3.2",
      "provenance": [],
      "include_colab_link": true
    },
    "kernelspec": {
      "name": "python3",
      "display_name": "Python 3"
    }
  },
  "cells": [
    {
      "cell_type": "markdown",
      "metadata": {
        "id": "view-in-github",
        "colab_type": "text"
      },
      "source": [
        "<a href=\"https://colab.research.google.com/github/prog815/lernDLpython/blob/master/%D1%83%D1%87%D0%B8%D0%BC_%D1%80%D0%B0%D1%81%D0%BF%D0%BE%D0%B7%D0%BD%D0%B0%D0%B2%D0%B0%D1%82%D1%8C_%D1%86%D0%B8%D1%84%D1%80%D1%8B_(mnist).ipynb\" target=\"_parent\"><img src=\"https://colab.research.google.com/assets/colab-badge.svg\" alt=\"Open In Colab\"/></a>"
      ]
    },
    {
      "cell_type": "markdown",
      "metadata": {
        "id": "aSPTvbYPjpbt",
        "colab_type": "text"
      },
      "source": [
        "# Get Started with TensorFlow\n",
        "https://www.tensorflow.org/tutorials/"
      ]
    },
    {
      "cell_type": "code",
      "metadata": {
        "id": "dbg0M_uijdH_",
        "colab_type": "code",
        "colab": {}
      },
      "source": [
        "import tensorflow as tf"
      ],
      "execution_count": 0,
      "outputs": []
    },
    {
      "cell_type": "markdown",
      "metadata": {
        "id": "Ko6X662guvPB",
        "colab_type": "text"
      },
      "source": [
        "подгружаем"
      ]
    },
    {
      "cell_type": "code",
      "metadata": {
        "id": "CdqwfoCUjimb",
        "colab_type": "code",
        "colab": {}
      },
      "source": [
        "(x_train, y_train), (x_test, y_test) = tf.keras.datasets.mnist.load_data()"
      ],
      "execution_count": 0,
      "outputs": []
    },
    {
      "cell_type": "markdown",
      "metadata": {
        "id": "bONEa2uwusnt",
        "colab_type": "text"
      },
      "source": [
        "нормируем"
      ]
    },
    {
      "cell_type": "code",
      "metadata": {
        "id": "2hhiE9GSkRgY",
        "colab_type": "code",
        "colab": {}
      },
      "source": [
        "x_train,x_test = x_train / 255.0, x_test / 255.0"
      ],
      "execution_count": 0,
      "outputs": []
    },
    {
      "cell_type": "markdown",
      "metadata": {
        "id": "dovor950upWd",
        "colab_type": "text"
      },
      "source": [
        "строим из разных слоев модель"
      ]
    },
    {
      "cell_type": "code",
      "metadata": {
        "id": "WPSsQMnAkUyb",
        "colab_type": "code",
        "colab": {}
      },
      "source": [
        "model = tf.keras.models.Sequential([\n",
        "    tf.keras.layers.Flatten(input_shape=(28,28)),\n",
        "    tf.keras.layers.Dense(512,activation=tf.nn.relu),\n",
        "    tf.keras.layers.Dense(10,activation=tf.nn.softmax)\n",
        "])"
      ],
      "execution_count": 0,
      "outputs": []
    },
    {
      "cell_type": "markdown",
      "metadata": {
        "id": "MNBITFpsulzh",
        "colab_type": "text"
      },
      "source": [
        "компилируем"
      ]
    },
    {
      "cell_type": "code",
      "metadata": {
        "id": "XCZJeHKUkkfh",
        "colab_type": "code",
        "colab": {}
      },
      "source": [
        "model.compile(optimizer='adam',loss='sparse_categorical_crossentropy', metrics=['accuracy'])"
      ],
      "execution_count": 0,
      "outputs": []
    },
    {
      "cell_type": "markdown",
      "metadata": {
        "id": "NdC22HcJujtv",
        "colab_type": "text"
      },
      "source": [
        "учим"
      ]
    },
    {
      "cell_type": "code",
      "metadata": {
        "id": "Cfhe9hLgofAr",
        "colab_type": "code",
        "colab": {
          "base_uri": "https://localhost:8080/",
          "height": 202
        },
        "outputId": "836d364d-d3ce-4310-9a06-8b584c216a9f"
      },
      "source": [
        "model.fit(x_train,y_train,epochs=5)"
      ],
      "execution_count": 27,
      "outputs": [
        {
          "output_type": "stream",
          "text": [
            "Epoch 1/5\n",
            "60000/60000 [==============================] - 8s 141us/sample - loss: 0.2017 - acc: 0.9401\n",
            "Epoch 2/5\n",
            "60000/60000 [==============================] - 8s 132us/sample - loss: 0.0794 - acc: 0.9760\n",
            "Epoch 3/5\n",
            "60000/60000 [==============================] - 8s 133us/sample - loss: 0.0538 - acc: 0.9828\n",
            "Epoch 4/5\n",
            "60000/60000 [==============================] - 8s 134us/sample - loss: 0.0371 - acc: 0.9885\n",
            "Epoch 5/5\n",
            "60000/60000 [==============================] - 8s 129us/sample - loss: 0.0269 - acc: 0.9911\n"
          ],
          "name": "stdout"
        },
        {
          "output_type": "execute_result",
          "data": {
            "text/plain": [
              "<tensorflow.python.keras.callbacks.History at 0x7fbeaa9b4828>"
            ]
          },
          "metadata": {
            "tags": []
          },
          "execution_count": 27
        }
      ]
    },
    {
      "cell_type": "markdown",
      "metadata": {
        "id": "80VQ3g18ug7F",
        "colab_type": "text"
      },
      "source": [
        "точность на тесте"
      ]
    },
    {
      "cell_type": "code",
      "metadata": {
        "id": "VRuhGAxzpi6h",
        "colab_type": "code",
        "colab": {
          "base_uri": "https://localhost:8080/",
          "height": 50
        },
        "outputId": "c2f7def3-2585-40ef-e9a0-e0194a72535b"
      },
      "source": [
        "model.evaluate(x_test,y_test)"
      ],
      "execution_count": 28,
      "outputs": [
        {
          "output_type": "stream",
          "text": [
            "10000/10000 [==============================] - 1s 63us/sample - loss: 0.0663 - acc: 0.9796\n"
          ],
          "name": "stdout"
        },
        {
          "output_type": "execute_result",
          "data": {
            "text/plain": [
              "[0.06631935536892852, 0.9796]"
            ]
          },
          "metadata": {
            "tags": []
          },
          "execution_count": 28
        }
      ]
    },
    {
      "cell_type": "code",
      "metadata": {
        "id": "MzP5_4bYuYgX",
        "colab_type": "code",
        "colab": {}
      },
      "source": [
        ""
      ],
      "execution_count": 0,
      "outputs": []
    }
  ]
}
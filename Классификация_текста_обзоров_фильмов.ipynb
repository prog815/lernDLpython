{
  "nbformat": 4,
  "nbformat_minor": 0,
  "metadata": {
    "colab": {
      "name": "Классификация текста обзоров фильмов.ipynb",
      "version": "0.3.2",
      "provenance": [],
      "collapsed_sections": [],
      "include_colab_link": true
    },
    "kernelspec": {
      "name": "python3",
      "display_name": "Python 3"
    },
    "accelerator": "GPU"
  },
  "cells": [
    {
      "cell_type": "markdown",
      "metadata": {
        "id": "view-in-github",
        "colab_type": "text"
      },
      "source": [
        "<a href=\"https://colab.research.google.com/github/prog815/lernDLpython/blob/master/%D0%9A%D0%BB%D0%B0%D1%81%D1%81%D0%B8%D1%84%D0%B8%D0%BA%D0%B0%D1%86%D0%B8%D1%8F_%D1%82%D0%B5%D0%BA%D1%81%D1%82%D0%B0_%D0%BE%D0%B1%D0%B7%D0%BE%D1%80%D0%BE%D0%B2_%D1%84%D0%B8%D0%BB%D1%8C%D0%BC%D0%BE%D0%B2.ipynb\" target=\"_parent\"><img src=\"https://colab.research.google.com/assets/colab-badge.svg\" alt=\"Open In Colab\"/></a>"
      ]
    },
    {
      "cell_type": "markdown",
      "metadata": {
        "id": "HGPEVSva6n7s",
        "colab_type": "text"
      },
      "source": [
        "# Классификация текста обзоров фильмов\n",
        "\n",
        "Енин А.В.\n",
        "\n",
        "Оренбург\n",
        "\n",
        "15.08.2019\n",
        "\n",
        "[VK](https://vk.com/alekseyenin)\n",
        "[OK](http://ok.ru/profile/404477133)\n",
        "[Twitter](https://twitter.com/EninAleksey)\n",
        "[FB](https://www.facebook.com/alex.prog.1)\n",
        "[Telegramm](https://t.me/AleseyEnin)\n",
        "[Habr](https://habr.com/ru/users/eavprog/posts/)\n",
        "[VC](https://vc.ru/u/262921-aleksey-enin)\n",
        "[GitHub](https://github.com/prog815)"
      ]
    },
    {
      "cell_type": "markdown",
      "metadata": {
        "id": "pbfYqI6R64xF",
        "colab_type": "text"
      },
      "source": [
        "Образец\n",
        "\n",
        "https://www.tensorflow.org/tutorials/keras/basic_text_classification"
      ]
    },
    {
      "cell_type": "code",
      "metadata": {
        "id": "6I9VSzxi6kcs",
        "colab_type": "code",
        "colab": {}
      },
      "source": [
        "import tensorflow as tf\n",
        "import numpy as np\n",
        "import matplotlib.pyplot as plt"
      ],
      "execution_count": 0,
      "outputs": []
    },
    {
      "cell_type": "code",
      "metadata": {
        "id": "imXAXiqY9KGQ",
        "colab_type": "code",
        "outputId": "b4dee11f-0c2e-43a3-c717-408ad71e0dc3",
        "colab": {
          "base_uri": "https://localhost:8080/",
          "height": 34
        }
      },
      "source": [
        "print(tf.__version__)"
      ],
      "execution_count": 2,
      "outputs": [
        {
          "output_type": "stream",
          "text": [
            "1.14.0\n"
          ],
          "name": "stdout"
        }
      ]
    },
    {
      "cell_type": "markdown",
      "metadata": {
        "id": "5QJhErCs_LPD",
        "colab_type": "text"
      },
      "source": [
        "# импортируем данные"
      ]
    },
    {
      "cell_type": "code",
      "metadata": {
        "id": "wtTcrfJc9Ope",
        "colab_type": "code",
        "outputId": "99102fac-a848-4b30-e637-2ee77af3f5ab",
        "colab": {
          "base_uri": "https://localhost:8080/",
          "height": 50
        }
      },
      "source": [
        "(x_train, y_train), (x_test, y_test) = tf.keras.datasets.imdb.load_data(num_words=10000)"
      ],
      "execution_count": 3,
      "outputs": [
        {
          "output_type": "stream",
          "text": [
            "Downloading data from https://storage.googleapis.com/tensorflow/tf-keras-datasets/imdb.npz\n",
            "17465344/17464789 [==============================] - 0s 0us/step\n"
          ],
          "name": "stdout"
        }
      ]
    },
    {
      "cell_type": "markdown",
      "metadata": {
        "id": "B8oe3Mt4_roY",
        "colab_type": "text"
      },
      "source": [
        "# смотрим на данные"
      ]
    },
    {
      "cell_type": "code",
      "metadata": {
        "id": "XFBSSxwG9x6p",
        "colab_type": "code",
        "outputId": "b62a0b1d-44de-4f02-eefd-019c65fe4500",
        "colab": {
          "base_uri": "https://localhost:8080/",
          "height": 34
        }
      },
      "source": [
        "x_train.shape"
      ],
      "execution_count": 4,
      "outputs": [
        {
          "output_type": "execute_result",
          "data": {
            "text/plain": [
              "(25000,)"
            ]
          },
          "metadata": {
            "tags": []
          },
          "execution_count": 4
        }
      ]
    },
    {
      "cell_type": "code",
      "metadata": {
        "id": "JFuhpbkK-7J7",
        "colab_type": "code",
        "outputId": "3855878a-e4af-4e57-fa92-a533740ef620",
        "colab": {
          "base_uri": "https://localhost:8080/",
          "height": 171
        }
      },
      "source": [
        "x_train"
      ],
      "execution_count": 5,
      "outputs": [
        {
          "output_type": "execute_result",
          "data": {
            "text/plain": [
              "array([list([1, 14, 22, 16, 43, 530, 973, 1622, 1385, 65, 458, 4468, 66, 3941, 4, 173, 36, 256, 5, 25, 100, 43, 838, 112, 50, 670, 2, 9, 35, 480, 284, 5, 150, 4, 172, 112, 167, 2, 336, 385, 39, 4, 172, 4536, 1111, 17, 546, 38, 13, 447, 4, 192, 50, 16, 6, 147, 2025, 19, 14, 22, 4, 1920, 4613, 469, 4, 22, 71, 87, 12, 16, 43, 530, 38, 76, 15, 13, 1247, 4, 22, 17, 515, 17, 12, 16, 626, 18, 2, 5, 62, 386, 12, 8, 316, 8, 106, 5, 4, 2223, 5244, 16, 480, 66, 3785, 33, 4, 130, 12, 16, 38, 619, 5, 25, 124, 51, 36, 135, 48, 25, 1415, 33, 6, 22, 12, 215, 28, 77, 52, 5, 14, 407, 16, 82, 2, 8, 4, 107, 117, 5952, 15, 256, 4, 2, 7, 3766, 5, 723, 36, 71, 43, 530, 476, 26, 400, 317, 46, 7, 4, 2, 1029, 13, 104, 88, 4, 381, 15, 297, 98, 32, 2071, 56, 26, 141, 6, 194, 7486, 18, 4, 226, 22, 21, 134, 476, 26, 480, 5, 144, 30, 5535, 18, 51, 36, 28, 224, 92, 25, 104, 4, 226, 65, 16, 38, 1334, 88, 12, 16, 283, 5, 16, 4472, 113, 103, 32, 15, 16, 5345, 19, 178, 32]),\n",
              "       list([1, 194, 1153, 194, 8255, 78, 228, 5, 6, 1463, 4369, 5012, 134, 26, 4, 715, 8, 118, 1634, 14, 394, 20, 13, 119, 954, 189, 102, 5, 207, 110, 3103, 21, 14, 69, 188, 8, 30, 23, 7, 4, 249, 126, 93, 4, 114, 9, 2300, 1523, 5, 647, 4, 116, 9, 35, 8163, 4, 229, 9, 340, 1322, 4, 118, 9, 4, 130, 4901, 19, 4, 1002, 5, 89, 29, 952, 46, 37, 4, 455, 9, 45, 43, 38, 1543, 1905, 398, 4, 1649, 26, 6853, 5, 163, 11, 3215, 2, 4, 1153, 9, 194, 775, 7, 8255, 2, 349, 2637, 148, 605, 2, 8003, 15, 123, 125, 68, 2, 6853, 15, 349, 165, 4362, 98, 5, 4, 228, 9, 43, 2, 1157, 15, 299, 120, 5, 120, 174, 11, 220, 175, 136, 50, 9, 4373, 228, 8255, 5, 2, 656, 245, 2350, 5, 4, 9837, 131, 152, 491, 18, 2, 32, 7464, 1212, 14, 9, 6, 371, 78, 22, 625, 64, 1382, 9, 8, 168, 145, 23, 4, 1690, 15, 16, 4, 1355, 5, 28, 6, 52, 154, 462, 33, 89, 78, 285, 16, 145, 95]),\n",
              "       list([1, 14, 47, 8, 30, 31, 7, 4, 249, 108, 7, 4, 5974, 54, 61, 369, 13, 71, 149, 14, 22, 112, 4, 2401, 311, 12, 16, 3711, 33, 75, 43, 1829, 296, 4, 86, 320, 35, 534, 19, 263, 4821, 1301, 4, 1873, 33, 89, 78, 12, 66, 16, 4, 360, 7, 4, 58, 316, 334, 11, 4, 1716, 43, 645, 662, 8, 257, 85, 1200, 42, 1228, 2578, 83, 68, 3912, 15, 36, 165, 1539, 278, 36, 69, 2, 780, 8, 106, 14, 6905, 1338, 18, 6, 22, 12, 215, 28, 610, 40, 6, 87, 326, 23, 2300, 21, 23, 22, 12, 272, 40, 57, 31, 11, 4, 22, 47, 6, 2307, 51, 9, 170, 23, 595, 116, 595, 1352, 13, 191, 79, 638, 89, 2, 14, 9, 8, 106, 607, 624, 35, 534, 6, 227, 7, 129, 113]),\n",
              "       ...,\n",
              "       list([1, 11, 6, 230, 245, 6401, 9, 6, 1225, 446, 2, 45, 2174, 84, 8322, 4007, 21, 4, 912, 84, 2, 325, 725, 134, 2, 1715, 84, 5, 36, 28, 57, 1099, 21, 8, 140, 8, 703, 5, 2, 84, 56, 18, 1644, 14, 9, 31, 7, 4, 9406, 1209, 2295, 2, 1008, 18, 6, 20, 207, 110, 563, 12, 8, 2901, 2, 8, 97, 6, 20, 53, 4767, 74, 4, 460, 364, 1273, 29, 270, 11, 960, 108, 45, 40, 29, 2961, 395, 11, 6, 4065, 500, 7, 2, 89, 364, 70, 29, 140, 4, 64, 4780, 11, 4, 2678, 26, 178, 4, 529, 443, 2, 5, 27, 710, 117, 2, 8123, 165, 47, 84, 37, 131, 818, 14, 595, 10, 10, 61, 1242, 1209, 10, 10, 288, 2260, 1702, 34, 2901, 2, 4, 65, 496, 4, 231, 7, 790, 5, 6, 320, 234, 2766, 234, 1119, 1574, 7, 496, 4, 139, 929, 2901, 2, 7750, 5, 4241, 18, 4, 8497, 2, 250, 11, 1818, 7561, 4, 4217, 5408, 747, 1115, 372, 1890, 1006, 541, 9303, 7, 4, 59, 2, 4, 3586, 2]),\n",
              "       list([1, 1446, 7079, 69, 72, 3305, 13, 610, 930, 8, 12, 582, 23, 5, 16, 484, 685, 54, 349, 11, 4120, 2959, 45, 58, 1466, 13, 197, 12, 16, 43, 23, 2, 5, 62, 30, 145, 402, 11, 4131, 51, 575, 32, 61, 369, 71, 66, 770, 12, 1054, 75, 100, 2198, 8, 4, 105, 37, 69, 147, 712, 75, 3543, 44, 257, 390, 5, 69, 263, 514, 105, 50, 286, 1814, 23, 4, 123, 13, 161, 40, 5, 421, 4, 116, 16, 897, 13, 2, 40, 319, 5872, 112, 6700, 11, 4803, 121, 25, 70, 3468, 4, 719, 3798, 13, 18, 31, 62, 40, 8, 7200, 4, 2, 7, 14, 123, 5, 942, 25, 8, 721, 12, 145, 5, 202, 12, 160, 580, 202, 12, 6, 52, 58, 2, 92, 401, 728, 12, 39, 14, 251, 8, 15, 251, 5, 2, 12, 38, 84, 80, 124, 12, 9, 23]),\n",
              "       list([1, 17, 6, 194, 337, 7, 4, 204, 22, 45, 254, 8, 106, 14, 123, 4, 2, 270, 2, 5, 2, 2, 732, 2098, 101, 405, 39, 14, 1034, 4, 1310, 9, 115, 50, 305, 12, 47, 4, 168, 5, 235, 7, 38, 111, 699, 102, 7, 4, 4039, 9245, 9, 24, 6, 78, 1099, 17, 2345, 2, 21, 27, 9685, 6139, 5, 2, 1603, 92, 1183, 4, 1310, 7, 4, 204, 42, 97, 90, 35, 221, 109, 29, 127, 27, 118, 8, 97, 12, 157, 21, 6789, 2, 9, 6, 66, 78, 1099, 4, 631, 1191, 5, 2642, 272, 191, 1070, 6, 7585, 8, 2197, 2, 2, 544, 5, 383, 1271, 848, 1468, 2, 497, 2, 8, 1597, 8778, 2, 21, 60, 27, 239, 9, 43, 8368, 209, 405, 10, 10, 12, 764, 40, 4, 248, 20, 12, 16, 5, 174, 1791, 72, 7, 51, 6, 1739, 22, 4, 204, 131, 9])],\n",
              "      dtype=object)"
            ]
          },
          "metadata": {
            "tags": []
          },
          "execution_count": 5
        }
      ]
    },
    {
      "cell_type": "code",
      "metadata": {
        "id": "QANw4J1S--DG",
        "colab_type": "code",
        "outputId": "d00512b2-8c63-4158-9778-3b975ec65800",
        "colab": {
          "base_uri": "https://localhost:8080/",
          "height": 34
        }
      },
      "source": [
        "y_train.shape"
      ],
      "execution_count": 6,
      "outputs": [
        {
          "output_type": "execute_result",
          "data": {
            "text/plain": [
              "(25000,)"
            ]
          },
          "metadata": {
            "tags": []
          },
          "execution_count": 6
        }
      ]
    },
    {
      "cell_type": "code",
      "metadata": {
        "id": "yRR9BpKj_D_W",
        "colab_type": "code",
        "outputId": "c94defe5-de7c-44dd-fae3-0dcce2a01969",
        "colab": {
          "base_uri": "https://localhost:8080/",
          "height": 34
        }
      },
      "source": [
        "y_train"
      ],
      "execution_count": 7,
      "outputs": [
        {
          "output_type": "execute_result",
          "data": {
            "text/plain": [
              "array([1, 0, 0, ..., 0, 1, 0])"
            ]
          },
          "metadata": {
            "tags": []
          },
          "execution_count": 7
        }
      ]
    },
    {
      "cell_type": "markdown",
      "metadata": {
        "id": "rqaojlE1OzFn",
        "colab_type": "text"
      },
      "source": [
        "# готовим данные"
      ]
    },
    {
      "cell_type": "markdown",
      "metadata": {
        "id": "q9LJ5pOP17fx",
        "colab_type": "text"
      },
      "source": [
        "## обрезаем"
      ]
    },
    {
      "cell_type": "code",
      "metadata": {
        "id": "RyBj4IWFMvCO",
        "colab_type": "code",
        "colab": {}
      },
      "source": [
        "inp_train = tf.keras.preprocessing.sequence.pad_sequences(x_train,maxlen=256)\n",
        "inp_test = tf.keras.preprocessing.sequence.pad_sequences(x_test,maxlen=256)"
      ],
      "execution_count": 0,
      "outputs": []
    },
    {
      "cell_type": "code",
      "metadata": {
        "id": "H7o5pxrZdO9N",
        "colab_type": "code",
        "outputId": "9093ecf2-4208-4f5b-ae05-6d16a0f11366",
        "colab": {
          "base_uri": "https://localhost:8080/",
          "height": 34
        }
      },
      "source": [
        "inp_train.shape"
      ],
      "execution_count": 9,
      "outputs": [
        {
          "output_type": "execute_result",
          "data": {
            "text/plain": [
              "(25000, 256)"
            ]
          },
          "metadata": {
            "tags": []
          },
          "execution_count": 9
        }
      ]
    },
    {
      "cell_type": "code",
      "metadata": {
        "id": "q4j6Yv6idZKo",
        "colab_type": "code",
        "outputId": "ac3100c9-23ae-442a-dcac-6692b0530c65",
        "colab": {
          "base_uri": "https://localhost:8080/",
          "height": 34
        }
      },
      "source": [
        "inp_test.shape"
      ],
      "execution_count": 10,
      "outputs": [
        {
          "output_type": "execute_result",
          "data": {
            "text/plain": [
              "(25000, 256)"
            ]
          },
          "metadata": {
            "tags": []
          },
          "execution_count": 10
        }
      ]
    },
    {
      "cell_type": "code",
      "metadata": {
        "id": "qur2nUfTdcwu",
        "colab_type": "code",
        "outputId": "8758c6a4-0962-4314-e335-0aa4f9d7f451",
        "colab": {
          "base_uri": "https://localhost:8080/",
          "height": 420
        }
      },
      "source": [
        "inp_train[0]"
      ],
      "execution_count": 11,
      "outputs": [
        {
          "output_type": "execute_result",
          "data": {
            "text/plain": [
              "array([   0,    0,    0,    0,    0,    0,    0,    0,    0,    0,    0,\n",
              "          0,    0,    0,    0,    0,    0,    0,    0,    0,    0,    0,\n",
              "          0,    0,    0,    0,    0,    0,    0,    0,    0,    0,    0,\n",
              "          0,    0,    0,    0,    0,    1,   14,   22,   16,   43,  530,\n",
              "        973, 1622, 1385,   65,  458, 4468,   66, 3941,    4,  173,   36,\n",
              "        256,    5,   25,  100,   43,  838,  112,   50,  670,    2,    9,\n",
              "         35,  480,  284,    5,  150,    4,  172,  112,  167,    2,  336,\n",
              "        385,   39,    4,  172, 4536, 1111,   17,  546,   38,   13,  447,\n",
              "          4,  192,   50,   16,    6,  147, 2025,   19,   14,   22,    4,\n",
              "       1920, 4613,  469,    4,   22,   71,   87,   12,   16,   43,  530,\n",
              "         38,   76,   15,   13, 1247,    4,   22,   17,  515,   17,   12,\n",
              "         16,  626,   18,    2,    5,   62,  386,   12,    8,  316,    8,\n",
              "        106,    5,    4, 2223, 5244,   16,  480,   66, 3785,   33,    4,\n",
              "        130,   12,   16,   38,  619,    5,   25,  124,   51,   36,  135,\n",
              "         48,   25, 1415,   33,    6,   22,   12,  215,   28,   77,   52,\n",
              "          5,   14,  407,   16,   82,    2,    8,    4,  107,  117, 5952,\n",
              "         15,  256,    4,    2,    7, 3766,    5,  723,   36,   71,   43,\n",
              "        530,  476,   26,  400,  317,   46,    7,    4,    2, 1029,   13,\n",
              "        104,   88,    4,  381,   15,  297,   98,   32, 2071,   56,   26,\n",
              "        141,    6,  194, 7486,   18,    4,  226,   22,   21,  134,  476,\n",
              "         26,  480,    5,  144,   30, 5535,   18,   51,   36,   28,  224,\n",
              "         92,   25,  104,    4,  226,   65,   16,   38, 1334,   88,   12,\n",
              "         16,  283,    5,   16, 4472,  113,  103,   32,   15,   16, 5345,\n",
              "         19,  178,   32], dtype=int32)"
            ]
          },
          "metadata": {
            "tags": []
          },
          "execution_count": 11
        }
      ]
    },
    {
      "cell_type": "markdown",
      "metadata": {
        "id": "i0U-0ooVdw-g",
        "colab_type": "text"
      },
      "source": [
        "# создаем модель"
      ]
    },
    {
      "cell_type": "code",
      "metadata": {
        "id": "A3T0bLz7dpmq",
        "colab_type": "code",
        "outputId": "9826001b-7aed-40dd-8f0e-5a364f6287b0",
        "colab": {
          "base_uri": "https://localhost:8080/",
          "height": 154
        }
      },
      "source": [
        "voc_size = 10000\n",
        "model = tf.keras.models.Sequential([\n",
        "    tf.keras.layers.Embedding(voc_size,16),\n",
        "    tf.keras.layers.GlobalAveragePooling1D(),\n",
        "    tf.keras.layers.Dense(16,activation=tf.nn.relu),\n",
        "    tf.keras.layers.Dense(1,activation=tf.nn.sigmoid)\n",
        "])"
      ],
      "execution_count": 12,
      "outputs": [
        {
          "output_type": "stream",
          "text": [
            "WARNING: Logging before flag parsing goes to stderr.\n",
            "W0817 04:32:11.754267 140054992779136 deprecation.py:506] From /usr/local/lib/python3.6/dist-packages/tensorflow/python/keras/initializers.py:119: calling RandomUniform.__init__ (from tensorflow.python.ops.init_ops) with dtype is deprecated and will be removed in a future version.\n",
            "Instructions for updating:\n",
            "Call initializer instance with the dtype argument instead of passing it to the constructor\n",
            "W0817 04:32:11.759812 140054992779136 deprecation.py:506] From /usr/local/lib/python3.6/dist-packages/tensorflow/python/ops/init_ops.py:1251: calling VarianceScaling.__init__ (from tensorflow.python.ops.init_ops) with dtype is deprecated and will be removed in a future version.\n",
            "Instructions for updating:\n",
            "Call initializer instance with the dtype argument instead of passing it to the constructor\n"
          ],
          "name": "stderr"
        }
      ]
    },
    {
      "cell_type": "code",
      "metadata": {
        "id": "ebYuMbGefqdv",
        "colab_type": "code",
        "outputId": "f114679c-4563-47ad-9eca-4e71bba6d999",
        "colab": {
          "base_uri": "https://localhost:8080/",
          "height": 87
        }
      },
      "source": [
        "model.compile(optimizer=tf.keras.optimizers.Adam(),loss=tf.keras.losses.binary_crossentropy,metrics=[\"accuracy\"])"
      ],
      "execution_count": 13,
      "outputs": [
        {
          "output_type": "stream",
          "text": [
            "W0817 04:32:11.876640 140054992779136 deprecation.py:323] From /usr/local/lib/python3.6/dist-packages/tensorflow/python/ops/nn_impl.py:180: add_dispatch_support.<locals>.wrapper (from tensorflow.python.ops.array_ops) is deprecated and will be removed in a future version.\n",
            "Instructions for updating:\n",
            "Use tf.where in 2.0, which has the same broadcast rule as np.where\n"
          ],
          "name": "stderr"
        }
      ]
    },
    {
      "cell_type": "code",
      "metadata": {
        "id": "ThkZfc-82rdn",
        "colab_type": "code",
        "colab": {
          "base_uri": "https://localhost:8080/",
          "height": 286
        },
        "outputId": "b398a93e-7457-4176-b2d9-6ab0e45e352b"
      },
      "source": [
        "model.summary()"
      ],
      "execution_count": 15,
      "outputs": [
        {
          "output_type": "stream",
          "text": [
            "Model: \"sequential\"\n",
            "_________________________________________________________________\n",
            "Layer (type)                 Output Shape              Param #   \n",
            "=================================================================\n",
            "embedding (Embedding)        (None, None, 16)          160000    \n",
            "_________________________________________________________________\n",
            "global_average_pooling1d (Gl (None, 16)                0         \n",
            "_________________________________________________________________\n",
            "dense (Dense)                (None, 16)                272       \n",
            "_________________________________________________________________\n",
            "dense_1 (Dense)              (None, 1)                 17        \n",
            "=================================================================\n",
            "Total params: 160,289\n",
            "Trainable params: 160,289\n",
            "Non-trainable params: 0\n",
            "_________________________________________________________________\n"
          ],
          "name": "stdout"
        }
      ]
    },
    {
      "cell_type": "markdown",
      "metadata": {
        "id": "QLsg3LFthXsv",
        "colab_type": "text"
      },
      "source": [
        "# учим модель"
      ]
    },
    {
      "cell_type": "code",
      "metadata": {
        "id": "GSZOYL-ThXJd",
        "colab_type": "code",
        "outputId": "e35aeb3e-8c55-4154-ccb5-c26056b5303e",
        "colab": {
          "base_uri": "https://localhost:8080/",
          "height": 1000
        }
      },
      "source": [
        "hist = model.fit(inp_train,y_train,batch_size=512,epochs=40,validation_split=0.2)"
      ],
      "execution_count": 14,
      "outputs": [
        {
          "output_type": "stream",
          "text": [
            "Train on 20000 samples, validate on 5000 samples\n",
            "Epoch 1/40\n",
            "20000/20000 [==============================] - 1s 59us/sample - loss: 0.6916 - acc: 0.5631 - val_loss: 0.6886 - val_acc: 0.6260\n",
            "Epoch 2/40\n",
            "20000/20000 [==============================] - 0s 16us/sample - loss: 0.6823 - acc: 0.6783 - val_loss: 0.6727 - val_acc: 0.7502\n",
            "Epoch 3/40\n",
            "20000/20000 [==============================] - 0s 16us/sample - loss: 0.6595 - acc: 0.7677 - val_loss: 0.6410 - val_acc: 0.7714\n",
            "Epoch 4/40\n",
            "20000/20000 [==============================] - 0s 16us/sample - loss: 0.6177 - acc: 0.7933 - val_loss: 0.5912 - val_acc: 0.7938\n",
            "Epoch 5/40\n",
            "20000/20000 [==============================] - 0s 17us/sample - loss: 0.5598 - acc: 0.8193 - val_loss: 0.5322 - val_acc: 0.8082\n",
            "Epoch 6/40\n",
            "20000/20000 [==============================] - 0s 16us/sample - loss: 0.4947 - acc: 0.8407 - val_loss: 0.4739 - val_acc: 0.8314\n",
            "Epoch 7/40\n",
            "20000/20000 [==============================] - 0s 16us/sample - loss: 0.4347 - acc: 0.8575 - val_loss: 0.4263 - val_acc: 0.8466\n",
            "Epoch 8/40\n",
            "20000/20000 [==============================] - 0s 16us/sample - loss: 0.3849 - acc: 0.8732 - val_loss: 0.3893 - val_acc: 0.8544\n",
            "Epoch 9/40\n",
            "20000/20000 [==============================] - 0s 16us/sample - loss: 0.3465 - acc: 0.8830 - val_loss: 0.3622 - val_acc: 0.8624\n",
            "Epoch 10/40\n",
            "20000/20000 [==============================] - 0s 16us/sample - loss: 0.3166 - acc: 0.8911 - val_loss: 0.3431 - val_acc: 0.8684\n",
            "Epoch 11/40\n",
            "20000/20000 [==============================] - 0s 16us/sample - loss: 0.2932 - acc: 0.8977 - val_loss: 0.3284 - val_acc: 0.8748\n",
            "Epoch 12/40\n",
            "20000/20000 [==============================] - 0s 16us/sample - loss: 0.2733 - acc: 0.9042 - val_loss: 0.3167 - val_acc: 0.8774\n",
            "Epoch 13/40\n",
            "20000/20000 [==============================] - 0s 16us/sample - loss: 0.2569 - acc: 0.9089 - val_loss: 0.3079 - val_acc: 0.8774\n",
            "Epoch 14/40\n",
            "20000/20000 [==============================] - 0s 16us/sample - loss: 0.2421 - acc: 0.9135 - val_loss: 0.3010 - val_acc: 0.8798\n",
            "Epoch 15/40\n",
            "20000/20000 [==============================] - 0s 16us/sample - loss: 0.2310 - acc: 0.9179 - val_loss: 0.2958 - val_acc: 0.8810\n",
            "Epoch 16/40\n",
            "20000/20000 [==============================] - 0s 16us/sample - loss: 0.2187 - acc: 0.9230 - val_loss: 0.2945 - val_acc: 0.8818\n",
            "Epoch 17/40\n",
            "20000/20000 [==============================] - 0s 16us/sample - loss: 0.2090 - acc: 0.9262 - val_loss: 0.2885 - val_acc: 0.8856\n",
            "Epoch 18/40\n",
            "20000/20000 [==============================] - 0s 16us/sample - loss: 0.1984 - acc: 0.9300 - val_loss: 0.2854 - val_acc: 0.8870\n",
            "Epoch 19/40\n",
            "20000/20000 [==============================] - 0s 16us/sample - loss: 0.1897 - acc: 0.9336 - val_loss: 0.2842 - val_acc: 0.8852\n",
            "Epoch 20/40\n",
            "20000/20000 [==============================] - 0s 17us/sample - loss: 0.1814 - acc: 0.9367 - val_loss: 0.2831 - val_acc: 0.8872\n",
            "Epoch 21/40\n",
            "20000/20000 [==============================] - 0s 16us/sample - loss: 0.1743 - acc: 0.9396 - val_loss: 0.2830 - val_acc: 0.8876\n",
            "Epoch 22/40\n",
            "20000/20000 [==============================] - 0s 16us/sample - loss: 0.1677 - acc: 0.9430 - val_loss: 0.2823 - val_acc: 0.8892\n",
            "Epoch 23/40\n",
            "20000/20000 [==============================] - 0s 16us/sample - loss: 0.1607 - acc: 0.9446 - val_loss: 0.2821 - val_acc: 0.8898\n",
            "Epoch 24/40\n",
            "20000/20000 [==============================] - 0s 16us/sample - loss: 0.1543 - acc: 0.9477 - val_loss: 0.2831 - val_acc: 0.8916\n",
            "Epoch 25/40\n",
            "20000/20000 [==============================] - 0s 16us/sample - loss: 0.1487 - acc: 0.9503 - val_loss: 0.2863 - val_acc: 0.8872\n",
            "Epoch 26/40\n",
            "20000/20000 [==============================] - 0s 16us/sample - loss: 0.1438 - acc: 0.9510 - val_loss: 0.2856 - val_acc: 0.8916\n",
            "Epoch 27/40\n",
            "20000/20000 [==============================] - 0s 16us/sample - loss: 0.1376 - acc: 0.9535 - val_loss: 0.2871 - val_acc: 0.8906\n",
            "Epoch 28/40\n",
            "20000/20000 [==============================] - 0s 16us/sample - loss: 0.1329 - acc: 0.9561 - val_loss: 0.2897 - val_acc: 0.8894\n",
            "Epoch 29/40\n",
            "20000/20000 [==============================] - 0s 16us/sample - loss: 0.1279 - acc: 0.9585 - val_loss: 0.2910 - val_acc: 0.8908\n",
            "Epoch 30/40\n",
            "20000/20000 [==============================] - 0s 16us/sample - loss: 0.1230 - acc: 0.9609 - val_loss: 0.2937 - val_acc: 0.8892\n",
            "Epoch 31/40\n",
            "20000/20000 [==============================] - 0s 16us/sample - loss: 0.1208 - acc: 0.9607 - val_loss: 0.2961 - val_acc: 0.8896\n",
            "Epoch 32/40\n",
            "20000/20000 [==============================] - 0s 17us/sample - loss: 0.1149 - acc: 0.9643 - val_loss: 0.3046 - val_acc: 0.8836\n",
            "Epoch 33/40\n",
            "20000/20000 [==============================] - 0s 16us/sample - loss: 0.1107 - acc: 0.9662 - val_loss: 0.3052 - val_acc: 0.8854\n",
            "Epoch 34/40\n",
            "20000/20000 [==============================] - 0s 16us/sample - loss: 0.1066 - acc: 0.9678 - val_loss: 0.3067 - val_acc: 0.8856\n",
            "Epoch 35/40\n",
            "20000/20000 [==============================] - 0s 16us/sample - loss: 0.1032 - acc: 0.9688 - val_loss: 0.3110 - val_acc: 0.8858\n",
            "Epoch 36/40\n",
            "20000/20000 [==============================] - 0s 18us/sample - loss: 0.0995 - acc: 0.9699 - val_loss: 0.3139 - val_acc: 0.8864\n",
            "Epoch 37/40\n",
            "20000/20000 [==============================] - 0s 16us/sample - loss: 0.0958 - acc: 0.9724 - val_loss: 0.3178 - val_acc: 0.8850\n",
            "Epoch 38/40\n",
            "20000/20000 [==============================] - 0s 16us/sample - loss: 0.0927 - acc: 0.9732 - val_loss: 0.3217 - val_acc: 0.8846\n",
            "Epoch 39/40\n",
            "20000/20000 [==============================] - 0s 16us/sample - loss: 0.0889 - acc: 0.9746 - val_loss: 0.3301 - val_acc: 0.8856\n",
            "Epoch 40/40\n",
            "20000/20000 [==============================] - 0s 16us/sample - loss: 0.0862 - acc: 0.9759 - val_loss: 0.3309 - val_acc: 0.8842\n"
          ],
          "name": "stdout"
        }
      ]
    },
    {
      "cell_type": "markdown",
      "metadata": {
        "id": "tt-KgvIm3lvG",
        "colab_type": "text"
      },
      "source": [
        "# качество модели"
      ]
    },
    {
      "cell_type": "markdown",
      "metadata": {
        "id": "l9UqPBce3gpq",
        "colab_type": "text"
      },
      "source": [
        "## качество на тесте"
      ]
    },
    {
      "cell_type": "code",
      "metadata": {
        "id": "IpL24BCbiJED",
        "colab_type": "code",
        "colab": {
          "base_uri": "https://localhost:8080/",
          "height": 50
        },
        "outputId": "880e01c2-6350-49d1-94ab-20df952b6584"
      },
      "source": [
        "model.evaluate(inp_test,y_test)"
      ],
      "execution_count": 17,
      "outputs": [
        {
          "output_type": "stream",
          "text": [
            "25000/25000 [==============================] - 1s 42us/sample - loss: 0.3569 - acc: 0.8702\n"
          ],
          "name": "stdout"
        },
        {
          "output_type": "execute_result",
          "data": {
            "text/plain": [
              "[0.3569279515695572, 0.87016]"
            ]
          },
          "metadata": {
            "tags": []
          },
          "execution_count": 17
        }
      ]
    },
    {
      "cell_type": "markdown",
      "metadata": {
        "id": "6cZ0-crM30cj",
        "colab_type": "text"
      },
      "source": [
        "## графики обучения"
      ]
    },
    {
      "cell_type": "code",
      "metadata": {
        "id": "fIM8Ewj23S4N",
        "colab_type": "code",
        "colab": {
          "base_uri": "https://localhost:8080/",
          "height": 34
        },
        "outputId": "24083b52-efa5-43f7-926d-2b8473af0bca"
      },
      "source": [
        "hist.history.keys()"
      ],
      "execution_count": 19,
      "outputs": [
        {
          "output_type": "execute_result",
          "data": {
            "text/plain": [
              "dict_keys(['loss', 'acc', 'val_loss', 'val_acc'])"
            ]
          },
          "metadata": {
            "tags": []
          },
          "execution_count": 19
        }
      ]
    },
    {
      "cell_type": "code",
      "metadata": {
        "id": "ULDZXLaU3_Kn",
        "colab_type": "code",
        "colab": {}
      },
      "source": [
        "acc = hist.history['acc']\n",
        "loss = hist.history['loss']\n",
        "val_acc = hist.history['val_acc']\n",
        "val_loss = hist.history['val_loss']\n",
        "epochs = range(1,len(acc)+1)"
      ],
      "execution_count": 0,
      "outputs": []
    },
    {
      "cell_type": "code",
      "metadata": {
        "id": "VLiXR2LH4YYq",
        "colab_type": "code",
        "colab": {
          "base_uri": "https://localhost:8080/",
          "height": 295
        },
        "outputId": "024b8ee2-8900-496c-c06d-062c4fded0a9"
      },
      "source": [
        "plt.plot(epochs,acc,'bo',label='lern')\n",
        "plt.plot(epochs,val_acc,'b',label='val')\n",
        "plt.xlabel('Эпохи')\n",
        "plt.ylabel('качество')\n",
        "plt.grid()\n",
        "plt.legend()\n",
        "plt.title('график качества')\n",
        "plt.show()"
      ],
      "execution_count": 28,
      "outputs": [
        {
          "output_type": "display_data",
          "data": {
            "image/png": "[encoded data removed]",
            "text/plain": [
              "<Figure size 432x288 with 1 Axes>"
            ]
          },
          "metadata": {
            "tags": []
          }
        }
      ]
    },
    {
      "cell_type": "code",
      "metadata": {
        "id": "kvgxAdGG7r1V",
        "colab_type": "code",
        "colab": {
          "base_uri": "https://localhost:8080/",
          "height": 295
        },
        "outputId": "d68b2e5b-87f0-4fa1-9931-f560b4eca39b"
      },
      "source": [
        "plt.plot(epochs,loss,'r+',label='lern')\n",
        "plt.plot(epochs,val_loss,'r',label='val')\n",
        "plt.xlabel('Эпохи')\n",
        "plt.ylabel('loss')\n",
        "plt.grid()\n",
        "plt.legend()\n",
        "plt.title('график потерь')\n",
        "plt.show()"
      ],
      "execution_count": 30,
      "outputs": [
        {
          "output_type": "display_data",
          "data": {
            "image/png": "[encoded data removed]",
            "text/plain": [
              "<Figure size 432x288 with 1 Axes>"
            ]
          },
          "metadata": {
            "tags": []
          }
        }
      ]
    },
    {
      "cell_type": "code",
      "metadata": {
        "id": "6zLN-V5S8SdQ",
        "colab_type": "code",
        "colab": {}
      },
      "source": [
        ""
      ],
      "execution_count": 0,
      "outputs": []
    }
  ]
}
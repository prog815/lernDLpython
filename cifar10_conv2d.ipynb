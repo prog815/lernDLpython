{
  "nbformat": 4,
  "nbformat_minor": 0,
  "metadata": {
    "colab": {
      "name": "cifar10_conv2d.ipynb",
      "version": "0.3.2",
      "provenance": [],
      "include_colab_link": true
    },
    "kernelspec": {
      "name": "python3",
      "display_name": "Python 3"
    }
  },
  "cells": [
    {
      "cell_type": "markdown",
      "metadata": {
        "id": "view-in-github",
        "colab_type": "text"
      },
      "source": [
        "<a href=\"https://colab.research.google.com/github/prog815/lernDLpython/blob/master/cifar10_conv2d.ipynb\" target=\"_parent\"><img src=\"https://colab.research.google.com/assets/colab-badge.svg\" alt=\"Open In Colab\"/></a>"
      ]
    },
    {
      "cell_type": "markdown",
      "metadata": {
        "id": "HGPEVSva6n7s",
        "colab_type": "text"
      },
      "source": [
        "# Сверточные нейронные сети\n",
        "\n",
        "Енин А.В.\n",
        "\n",
        "Оренбург\n",
        "\n",
        "29.08.2019\n",
        "\n",
        "[VK](https://vk.com/alekseyenin)\n",
        "[OK](http://ok.ru/profile/404477133)\n",
        "[Twitter](https://twitter.com/EninAleksey)\n",
        "[FB](https://www.facebook.com/alex.prog.1)\n",
        "[Telegramm](https://t.me/AleseyEnin)\n",
        "[Habr](https://habr.com/ru/users/eavprog/posts/)\n",
        "[VC](https://vc.ru/u/262921-aleksey-enin)\n",
        "[GitHub](https://github.com/prog815/lernDLpython)"
      ]
    },
    {
      "cell_type": "markdown",
      "metadata": {
        "id": "Jp-7SXSIGkD0",
        "colab_type": "text"
      },
      "source": [
        "образец из курса лекций [\"Нейронные сети\"(А.Созыкин)](https://www.asozykin.ru/courses/nnpython):\n",
        "\n",
        "https://github.com/sozykin/dlpython_course/blob/master/cifar10/cifar10.py"
      ]
    },
    {
      "cell_type": "code",
      "metadata": {
        "id": "6Viz04CxFt6C",
        "colab_type": "code",
        "colab": {}
      },
      "source": [
        "import tensorflow as tf\n",
        "import keras"
      ],
      "execution_count": 0,
      "outputs": []
    },
    {
      "cell_type": "code",
      "metadata": {
        "id": "f_O9mF40IW3_",
        "colab_type": "code",
        "colab": {
          "base_uri": "https://localhost:8080/",
          "height": 50
        },
        "outputId": "18497f69-4c1c-4a57-b2fe-19f62fa71d40"
      },
      "source": [
        "(x_train, y_train), (x_test, y_test) = keras.datasets.cifar10.load_data()"
      ],
      "execution_count": 4,
      "outputs": [
        {
          "output_type": "stream",
          "text": [
            "Downloading data from https://www.cs.toronto.edu/~kriz/cifar-10-python.tar.gz\n",
            "170500096/170498071 [==============================] - 4s 0us/step\n"
          ],
          "name": "stdout"
        }
      ]
    },
    {
      "cell_type": "code",
      "metadata": {
        "id": "E27zqoDpJBGy",
        "colab_type": "code",
        "colab": {
          "base_uri": "https://localhost:8080/",
          "height": 34
        },
        "outputId": "30c7e435-0ccc-44a0-d688-c5c03555e6eb"
      },
      "source": [
        "x_train.shape"
      ],
      "execution_count": 5,
      "outputs": [
        {
          "output_type": "execute_result",
          "data": {
            "text/plain": [
              "(50000, 32, 32, 3)"
            ]
          },
          "metadata": {
            "tags": []
          },
          "execution_count": 5
        }
      ]
    },
    {
      "cell_type": "code",
      "metadata": {
        "id": "7-gnR8hMJGL3",
        "colab_type": "code",
        "colab": {
          "base_uri": "https://localhost:8080/",
          "height": 34
        },
        "outputId": "16d0cc4c-8fd1-4f8e-9d91-58480267b807"
      },
      "source": [
        "y_train.shape"
      ],
      "execution_count": 7,
      "outputs": [
        {
          "output_type": "execute_result",
          "data": {
            "text/plain": [
              "(50000, 1)"
            ]
          },
          "metadata": {
            "tags": []
          },
          "execution_count": 7
        }
      ]
    },
    {
      "cell_type": "code",
      "metadata": {
        "id": "RrfMNvYjJJ-z",
        "colab_type": "code",
        "colab": {}
      },
      "source": [
        ""
      ],
      "execution_count": 0,
      "outputs": []
    }
  ]
}
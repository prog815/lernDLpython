{
  "nbformat": 4,
  "nbformat_minor": 0,
  "metadata": {
    "colab": {
      "name": "basic_regression.ipynb",
      "version": "0.3.2",
      "provenance": [],
      "collapsed_sections": [],
      "toc_visible": true,
      "include_colab_link": true
    },
    "kernelspec": {
      "name": "python3",
      "display_name": "Python 3"
    },
    "accelerator": "GPU"
  },
  "cells": [
    {
      "cell_type": "markdown",
      "metadata": {
        "id": "view-in-github",
        "colab_type": "text"
      },
      "source": [
        "<a href=\"https://colab.research.google.com/github/prog815/lernDLpython/blob/master/save_and_restore_models.ipynb\" target=\"_parent\"><img src=\"https://colab.research.google.com/assets/colab-badge.svg\" alt=\"Open In Colab\"/></a>"
      ]
    },
    {
      "cell_type": "markdown",
      "metadata": {
        "id": "HGPEVSva6n7s",
        "colab_type": "text"
      },
      "source": [
        "# Сохранение и загрузка моделей\n",
        "\n",
        "Енин А.В.\n",
        "\n",
        "Оренбург\n",
        "\n",
        "28.08.2019\n",
        "\n",
        "[VK](https://vk.com/alekseyenin)\n",
        "[OK](http://ok.ru/profile/404477133)\n",
        "[Twitter](https://twitter.com/EninAleksey)\n",
        "[FB](https://www.facebook.com/alex.prog.1)\n",
        "[Telegramm](https://t.me/AleseyEnin)\n",
        "[Habr](https://habr.com/ru/users/eavprog/posts/)\n",
        "[VC](https://vc.ru/u/262921-aleksey-enin)\n",
        "[GitHub](https://github.com/prog815/lernDLpython)"
      ]
    },
    {
      "cell_type": "markdown",
      "metadata": {
        "id": "pbfYqI6R64xF",
        "colab_type": "text"
      },
      "source": [
        "Образец\n",
        "\n",
        "https://www.tensorflow.org/tutorials/keras/save_and_restore_models"
      ]
    },
    {
      "cell_type": "code",
      "metadata": {
        "id": "UsyA4ZwXCjCH",
        "colab_type": "code",
        "colab": {}
      },
      "source": [
        "import os\n",
        "\n",
        "import tensorflow as tf\n",
        "from tensorflow import keras"
      ],
      "execution_count": 0,
      "outputs": []
    },
    {
      "cell_type": "code",
      "metadata": {
        "id": "WdejDTWLC4gF",
        "colab_type": "code",
        "colab": {
          "base_uri": "https://localhost:8080/",
          "height": 50
        },
        "outputId": "29e63d45-252e-4871-f68c-dc7032ed096f"
      },
      "source": [
        "(x_train, y_train), (x_test, y_test) = keras.datasets.mnist.load_data()"
      ],
      "execution_count": 2,
      "outputs": [
        {
          "output_type": "stream",
          "text": [
            "Downloading data from https://storage.googleapis.com/tensorflow/tf-keras-datasets/mnist.npz\n",
            "11493376/11490434 [==============================] - 0s 0us/step\n"
          ],
          "name": "stdout"
        }
      ]
    },
    {
      "cell_type": "code",
      "metadata": {
        "id": "fMoP0CA_DNHT",
        "colab_type": "code",
        "colab": {}
      },
      "source": [
        "train_labels = y_train[:20000]\n",
        "test_labels = y_test[:10000]\n",
        "\n",
        "train_images = x_train[:20000].reshape(-1,28*28) / 255.0\n",
        "test_images = x_test[:10000].reshape(-1,28*28) / 255.0"
      ],
      "execution_count": 0,
      "outputs": []
    },
    {
      "cell_type": "code",
      "metadata": {
        "id": "1Y9UMaVbD37q",
        "colab_type": "code",
        "colab": {
          "base_uri": "https://localhost:8080/",
          "height": 34
        },
        "outputId": "114a1b50-75f8-43ad-a350-ddbe052f4c83"
      },
      "source": [
        "test_images.shape"
      ],
      "execution_count": 20,
      "outputs": [
        {
          "output_type": "execute_result",
          "data": {
            "text/plain": [
              "(10000, 784)"
            ]
          },
          "metadata": {
            "tags": []
          },
          "execution_count": 20
        }
      ]
    },
    {
      "cell_type": "code",
      "metadata": {
        "id": "dFCQoTjAECGK",
        "colab_type": "code",
        "colab": {}
      },
      "source": [
        "def make_model():\n",
        "  model = keras.models.Sequential()\n",
        "  model.add(keras.layers.Dense(512,activation=tf.nn.relu,input_shape=(28*28,)))\n",
        "  model.add(keras.layers.Dropout(0.4))\n",
        "  model.add(keras.layers.Dense(10,activation=tf.nn.softmax))\n",
        "\n",
        "  model.compile(optimizer=tf.train.AdamOptimizer(),loss=keras.losses.sparse_categorical_crossentropy,metrics=['accuracy'])\n",
        "  \n",
        "  return model"
      ],
      "execution_count": 0,
      "outputs": []
    },
    {
      "cell_type": "code",
      "metadata": {
        "id": "-TOvZd3IGYDN",
        "colab_type": "code",
        "colab": {
          "base_uri": "https://localhost:8080/",
          "height": 722
        },
        "outputId": "46a8bc64-9524-4fdd-91ed-ba0eff0464ac"
      },
      "source": [
        "cp_path = 'train_1/cp_model.ckpt'\n",
        "\n",
        "cp_callback = keras.callbacks.ModelCheckpoint(filepath=cp_path,verbose=1,save_weights_only=True)\n",
        "\n",
        "model = make_model()\n",
        "\n",
        "model.fit(train_images,train_labels,epochs=10,callbacks=[cp_callback],validation_data=(test_images,test_labels))"
      ],
      "execution_count": 25,
      "outputs": [
        {
          "output_type": "stream",
          "text": [
            "Train on 20000 samples, validate on 10000 samples\n",
            "Epoch 1/10\n",
            "19520/20000 [============================>.] - ETA: 0s - loss: 0.3802 - acc: 0.8883\n",
            "Epoch 00001: saving model to train_1/cp_model.ckpt\n",
            "20000/20000 [==============================] - 3s 146us/sample - loss: 0.3771 - acc: 0.8891 - val_loss: 0.1921 - val_acc: 0.9428\n",
            "Epoch 2/10\n",
            "19968/20000 [============================>.] - ETA: 0s - loss: 0.1784 - acc: 0.9472\n",
            "Epoch 00002: saving model to train_1/cp_model.ckpt\n",
            "20000/20000 [==============================] - 3s 134us/sample - loss: 0.1785 - acc: 0.9471 - val_loss: 0.1358 - val_acc: 0.9595\n",
            "Epoch 3/10\n",
            "19936/20000 [============================>.] - ETA: 0s - loss: 0.1298 - acc: 0.9614\n",
            "Epoch 00003: saving model to train_1/cp_model.ckpt\n",
            "20000/20000 [==============================] - 3s 135us/sample - loss: 0.1298 - acc: 0.9614 - val_loss: 0.1188 - val_acc: 0.9654\n",
            "Epoch 4/10\n",
            "19776/20000 [============================>.] - ETA: 0s - loss: 0.0971 - acc: 0.9699\n",
            "Epoch 00004: saving model to train_1/cp_model.ckpt\n",
            "20000/20000 [==============================] - 3s 138us/sample - loss: 0.0973 - acc: 0.9697 - val_loss: 0.1109 - val_acc: 0.9662\n",
            "Epoch 5/10\n",
            "19712/20000 [============================>.] - ETA: 0s - loss: 0.0805 - acc: 0.9745\n",
            "Epoch 00005: saving model to train_1/cp_model.ckpt\n",
            "20000/20000 [==============================] - 3s 135us/sample - loss: 0.0809 - acc: 0.9744 - val_loss: 0.1001 - val_acc: 0.9693\n",
            "Epoch 6/10\n",
            "19584/20000 [============================>.] - ETA: 0s - loss: 0.0647 - acc: 0.9797\n",
            "Epoch 00006: saving model to train_1/cp_model.ckpt\n",
            "20000/20000 [==============================] - 3s 137us/sample - loss: 0.0650 - acc: 0.9797 - val_loss: 0.1089 - val_acc: 0.9671\n",
            "Epoch 7/10\n",
            "19616/20000 [============================>.] - ETA: 0s - loss: 0.0560 - acc: 0.9824\n",
            "Epoch 00007: saving model to train_1/cp_model.ckpt\n",
            "20000/20000 [==============================] - 3s 135us/sample - loss: 0.0554 - acc: 0.9826 - val_loss: 0.0949 - val_acc: 0.9706\n",
            "Epoch 8/10\n",
            "19488/20000 [============================>.] - ETA: 0s - loss: 0.0509 - acc: 0.9832\n",
            "Epoch 00008: saving model to train_1/cp_model.ckpt\n",
            "20000/20000 [==============================] - 3s 136us/sample - loss: 0.0510 - acc: 0.9833 - val_loss: 0.1037 - val_acc: 0.9700\n",
            "Epoch 9/10\n",
            "19776/20000 [============================>.] - ETA: 0s - loss: 0.0472 - acc: 0.9849\n",
            "Epoch 00009: saving model to train_1/cp_model.ckpt\n",
            "20000/20000 [==============================] - 3s 135us/sample - loss: 0.0471 - acc: 0.9850 - val_loss: 0.1144 - val_acc: 0.9675\n",
            "Epoch 10/10\n",
            "19552/20000 [============================>.] - ETA: 0s - loss: 0.0381 - acc: 0.9875\n",
            "Epoch 00010: saving model to train_1/cp_model.ckpt\n",
            "20000/20000 [==============================] - 3s 140us/sample - loss: 0.0381 - acc: 0.9876 - val_loss: 0.1086 - val_acc: 0.9712\n"
          ],
          "name": "stdout"
        },
        {
          "output_type": "execute_result",
          "data": {
            "text/plain": [
              "<tensorflow.python.keras.callbacks.History at 0x7f1c4e247f28>"
            ]
          },
          "metadata": {
            "tags": []
          },
          "execution_count": 25
        }
      ]
    },
    {
      "cell_type": "code",
      "metadata": {
        "id": "1f0EnazdGzkN",
        "colab_type": "code",
        "colab": {}
      },
      "source": [
        "cp_dir = os.path.dirname(cp_path)"
      ],
      "execution_count": 0,
      "outputs": []
    },
    {
      "cell_type": "code",
      "metadata": {
        "id": "4XCIsFb4KTPH",
        "colab_type": "code",
        "colab": {
          "base_uri": "https://localhost:8080/",
          "height": 101
        },
        "outputId": "833069e8-4422-4a8a-e1d2-0719c20261f3"
      },
      "source": [
        "!ls -l {cp_dir}"
      ],
      "execution_count": 28,
      "outputs": [
        {
          "output_type": "stream",
          "text": [
            "total 4784\n",
            "-rw-r--r-- 1 root root      83 Aug 28 16:54 checkpoint\n",
            "-rw-r--r-- 1 root root 4884616 Aug 28 16:54 cp_model.ckpt.data-00000-of-00002\n",
            "-rw-r--r-- 1 root root    2085 Aug 28 16:54 cp_model.ckpt.data-00001-of-00002\n",
            "-rw-r--r-- 1 root root    1193 Aug 28 16:54 cp_model.ckpt.index\n"
          ],
          "name": "stdout"
        }
      ]
    },
    {
      "cell_type": "code",
      "metadata": {
        "id": "ld4zCfyeKW4g",
        "colab_type": "code",
        "colab": {
          "base_uri": "https://localhost:8080/",
          "height": 50
        },
        "outputId": "443b041a-1dee-4165-be6c-c18537ed6cbb"
      },
      "source": [
        "model = make_model()\n",
        "\n",
        "model.evaluate(test_images,test_labels)"
      ],
      "execution_count": 29,
      "outputs": [
        {
          "output_type": "stream",
          "text": [
            "10000/10000 [==============================] - 1s 70us/sample - loss: 2.4066 - acc: 0.0612\n"
          ],
          "name": "stdout"
        },
        {
          "output_type": "execute_result",
          "data": {
            "text/plain": [
              "[2.406582387542725, 0.0612]"
            ]
          },
          "metadata": {
            "tags": []
          },
          "execution_count": 29
        }
      ]
    },
    {
      "cell_type": "code",
      "metadata": {
        "id": "s3z_uzRUKzYT",
        "colab_type": "code",
        "colab": {
          "base_uri": "https://localhost:8080/",
          "height": 50
        },
        "outputId": "7f7edda6-0bf0-4172-dbe4-aac5416078ae"
      },
      "source": [
        "model.load_weights(cp_path)\n",
        "model.evaluate(test_images,test_labels)"
      ],
      "execution_count": 30,
      "outputs": [
        {
          "output_type": "stream",
          "text": [
            "10000/10000 [==============================] - 1s 68us/sample - loss: 0.1086 - acc: 0.9712\n"
          ],
          "name": "stdout"
        },
        {
          "output_type": "execute_result",
          "data": {
            "text/plain": [
              "[0.10859083561175793, 0.9712]"
            ]
          },
          "metadata": {
            "tags": []
          },
          "execution_count": 30
        }
      ]
    },
    {
      "cell_type": "markdown",
      "metadata": {
        "id": "fdFBd7s1LhuY",
        "colab_type": "text"
      },
      "source": [
        "# вручную"
      ]
    },
    {
      "cell_type": "code",
      "metadata": {
        "id": "VUk2qmDrK_81",
        "colab_type": "code",
        "colab": {
          "base_uri": "https://localhost:8080/",
          "height": 386
        },
        "outputId": "34871a02-1e57-401c-af43-4b71087e9d1a"
      },
      "source": [
        "model = make_model()\n",
        "\n",
        "model.fit(train_images,train_labels,epochs=10,validation_data=(test_images,test_labels))"
      ],
      "execution_count": 31,
      "outputs": [
        {
          "output_type": "stream",
          "text": [
            "Train on 20000 samples, validate on 10000 samples\n",
            "Epoch 1/10\n",
            "20000/20000 [==============================] - 3s 143us/sample - loss: 0.3772 - acc: 0.8887 - val_loss: 0.1950 - val_acc: 0.9422\n",
            "Epoch 2/10\n",
            "20000/20000 [==============================] - 3s 133us/sample - loss: 0.1790 - acc: 0.9479 - val_loss: 0.1447 - val_acc: 0.9554\n",
            "Epoch 3/10\n",
            "20000/20000 [==============================] - 3s 135us/sample - loss: 0.1260 - acc: 0.9615 - val_loss: 0.1226 - val_acc: 0.9621\n",
            "Epoch 4/10\n",
            "20000/20000 [==============================] - 3s 134us/sample - loss: 0.1003 - acc: 0.9687 - val_loss: 0.1078 - val_acc: 0.9659\n",
            "Epoch 5/10\n",
            "20000/20000 [==============================] - 3s 136us/sample - loss: 0.0765 - acc: 0.9766 - val_loss: 0.1025 - val_acc: 0.9690\n",
            "Epoch 6/10\n",
            "20000/20000 [==============================] - 3s 139us/sample - loss: 0.0664 - acc: 0.9786 - val_loss: 0.1086 - val_acc: 0.9676\n",
            "Epoch 7/10\n",
            "20000/20000 [==============================] - 3s 137us/sample - loss: 0.0574 - acc: 0.9819 - val_loss: 0.1032 - val_acc: 0.9714\n",
            "Epoch 8/10\n",
            "20000/20000 [==============================] - 3s 136us/sample - loss: 0.0524 - acc: 0.9826 - val_loss: 0.1094 - val_acc: 0.9694\n",
            "Epoch 9/10\n",
            "20000/20000 [==============================] - 3s 135us/sample - loss: 0.0436 - acc: 0.9863 - val_loss: 0.1015 - val_acc: 0.9714\n",
            "Epoch 10/10\n",
            "20000/20000 [==============================] - 3s 136us/sample - loss: 0.0389 - acc: 0.9873 - val_loss: 0.1006 - val_acc: 0.9721\n"
          ],
          "name": "stdout"
        },
        {
          "output_type": "execute_result",
          "data": {
            "text/plain": [
              "<tensorflow.python.keras.callbacks.History at 0x7f1c5072fc88>"
            ]
          },
          "metadata": {
            "tags": []
          },
          "execution_count": 31
        }
      ]
    },
    {
      "cell_type": "code",
      "metadata": {
        "id": "UteQgD8MLs7E",
        "colab_type": "code",
        "colab": {}
      },
      "source": [
        "model.save_weights('cp/model')"
      ],
      "execution_count": 0,
      "outputs": []
    },
    {
      "cell_type": "code",
      "metadata": {
        "id": "TxGRyb5nL-GR",
        "colab_type": "code",
        "colab": {
          "base_uri": "https://localhost:8080/",
          "height": 50
        },
        "outputId": "b682f819-3853-4b84-bfea-50e46effa0b0"
      },
      "source": [
        "model = make_model()\n",
        "model.evaluate(test_images,test_labels)"
      ],
      "execution_count": 34,
      "outputs": [
        {
          "output_type": "stream",
          "text": [
            "10000/10000 [==============================] - 1s 72us/sample - loss: 2.4202 - acc: 0.0777\n"
          ],
          "name": "stdout"
        },
        {
          "output_type": "execute_result",
          "data": {
            "text/plain": [
              "[2.420172235107422, 0.0777]"
            ]
          },
          "metadata": {
            "tags": []
          },
          "execution_count": 34
        }
      ]
    },
    {
      "cell_type": "code",
      "metadata": {
        "id": "DP3624xbMFL_",
        "colab_type": "code",
        "colab": {
          "base_uri": "https://localhost:8080/",
          "height": 50
        },
        "outputId": "38c7cb84-e35c-4490-aafa-2996a590e42d"
      },
      "source": [
        "model.load_weights('cp/model')\n",
        "model.evaluate(test_images,test_labels)"
      ],
      "execution_count": 35,
      "outputs": [
        {
          "output_type": "stream",
          "text": [
            "10000/10000 [==============================] - 1s 73us/sample - loss: 0.1006 - acc: 0.9721\n"
          ],
          "name": "stdout"
        },
        {
          "output_type": "execute_result",
          "data": {
            "text/plain": [
              "[0.10057529136438388, 0.9721]"
            ]
          },
          "metadata": {
            "tags": []
          },
          "execution_count": 35
        }
      ]
    },
    {
      "cell_type": "code",
      "metadata": {
        "id": "glwlI4jUMSWO",
        "colab_type": "code",
        "colab": {}
      },
      "source": [
        ""
      ],
      "execution_count": 0,
      "outputs": []
    }
  ]
}